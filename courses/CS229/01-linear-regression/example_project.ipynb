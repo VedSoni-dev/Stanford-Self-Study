{
  "cells": [
    {
      "cell_type": "code",
      "execution_count": null,
      "metadata": {
        "vscode": {
          "languageId": "plaintext"
        }
      },
      "outputs": [],
      "source": [
        "# Example Project — Linear Regression\n",
        "\n",
        "Use this notebook to implement closed-form linear regression and gradient descent on a toy dataset.\n"
      ]
    }
  ],
  "metadata": {
    "language_info": {
      "name": "python"
    }
  },
  "nbformat": 4,
  "nbformat_minor": 2
}
